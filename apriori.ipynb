{
 "cells": [
  {
   "cell_type": "code",
   "execution_count": null,
   "metadata": {},
   "outputs": [],
   "source": [
    "import pandas as pd\n",
    "from config import mssq_datawharehouse\n",
    "from sqlalchemy import text\n",
    "from apyori import apriori\n",
    "from itertools import chain\n",
    "import json\n",
    "from collections import OrderedDict"
   ]
  },
  {
   "cell_type": "code",
   "execution_count": 3,
   "metadata": {},
   "outputs": [],
   "source": [
    "def pedidos_itens() -> None:\n",
    "        \n",
    "    enginemssql = mssq_datawharehouse()\n",
    "    with enginemssql.begin() as conn:\n",
    "        get_items = conn.execute(text(\"\"\"\n",
    "        SELECT DISTINCT pedidos.ref_venda,pedidos.ref_produto, pedidos.quantidade   \n",
    "        ,pedidos.[data_cadastro],produtos.nome_produto,pedidos.bit_showroom,produtos.marca,pedidos.ref_contrato\n",
    "        FROM datawharehouse.comercial.dim_pedido as pedidos\n",
    "        left join comercial.dim_produtos as produtos on produtos.ref_produto = pedidos.ref_produto\n",
    "        where pedidos.ref_venda is not null and year(pedidos.data_cadastro) >= '2022'\"\"\")).all()\n",
    "        \n",
    "        dict_tems = [row._asdict() for row in get_items]\n",
    "        yield dict_tems\n"
   ]
  },
  {
   "cell_type": "code",
   "execution_count": 4,
   "metadata": {},
   "outputs": [],
   "source": [
    "def get_dataframe() -> pd.DataFrame:\n",
    "    data = pedidos_itens()\n",
    "    dicts = [args for args in chain.from_iterable(data)]\n",
    "    \n",
    "    pedidos_df = pd.DataFrame(dicts)\n",
    "    pedidos_df = pedidos_df.dropna()\n",
    "    pedidos_df = pedidos_df.drop_duplicates()\n",
    "    pedidos_df.sort_values(by=['data_cadastro','quantidade'],ascending=False)\n",
    "    new_list_pedidos = pedidos_df[['ref_contrato', 'ref_produto', 'quantidade', 'data_cadastro','marca']]\n",
    "   \n",
    "    return new_list_pedidos\n"
   ]
  },
  {
   "cell_type": "code",
   "execution_count": 5,
   "metadata": {},
   "outputs": [],
   "source": [
    "def apriori_df() -> list:\n",
    "    new_list_pedidos = get_dataframe()\n",
    "    cont = len(new_list_pedidos)\n",
    "    cools = len(new_list_pedidos.columns)\n",
    "    transacoes = []\n",
    "    for i in range(0, cont):\n",
    "        transacoes.append([str(new_list_pedidos.values[i, j]) for j in range(0, cools)])\n",
    "    return transacoes\n",
    "    "
   ]
  },
  {
   "cell_type": "code",
   "execution_count": null,
   "metadata": {},
   "outputs": [],
   "source": [
    "def calculate_apriori() -> None:\n",
    "    lista_apriori = []\n",
    "    transacoes = apriori_df()\n",
    "    new_transacoes= [item for item in transacoes]\n",
    "    regras = apriori(new_transacoes, min_support=0.003,\n",
    "                      min_confidence=0.01, min_lift=0.01, min_lenght=2)\n",
    "\n",
    "    resultados = list(regras)\n",
    "    cont = len(resultados)\n",
    "    i = 1\n",
    "    while i < cont:\n",
    "        if resultados[i] !=None:\n",
    "            lista_apriori.append(resultados[i])\n",
    "\n",
    "        i +=1\n",
    "    print(lista_apriori)\n",
    "calculate_apriori()"
   ]
  }
 ],
 "metadata": {
  "kernelspec": {
   "display_name": "venv",
   "language": "python",
   "name": "python3"
  },
  "language_info": {
   "codemirror_mode": {
    "name": "ipython",
    "version": 3
   },
   "file_extension": ".py",
   "mimetype": "text/x-python",
   "name": "python",
   "nbconvert_exporter": "python",
   "pygments_lexer": "ipython3",
   "version": "3.11.2"
  },
  "orig_nbformat": 4
 },
 "nbformat": 4,
 "nbformat_minor": 2
}
